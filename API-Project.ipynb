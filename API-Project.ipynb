{
 "cells": [
  {
   "cell_type": "markdown",
   "id": "253b93a9",
   "metadata": {},
   "source": [
    "## Problem 1\n",
    "\n",
    "By collecting the data using Zomato API one can recommend retsaurants on the basis of usres affinity to specific cuisines, estabilishment types, locations, and price bands.\n",
    "\n",
    "we can find out whether restaurants suppport online reservations or not.\n",
    "\n",
    "we can find out wha is the most popular and/or exclusive at a given location and time."
   ]
  },
  {
   "cell_type": "code",
   "execution_count": 48,
   "id": "76284ff6",
   "metadata": {},
   "outputs": [
    {
     "name": "stdout",
     "output_type": "stream",
     "text": [
      "73\n"
     ]
    }
   ],
   "source": [
    "import requests\n",
    "\n",
    "#fetch the cuisine_id of 'Mexican' cuisine using zomato\n",
    "basic_api = 'https://developers.zomato.com/api/v2.1'\n",
    "params = {'city_id':1}\n",
    "user_key = \"deacdd5cb34d052c59e8491eb2699851\"\n",
    "header = {\"User-agent\": \"curcl/7.43.0\", 'Accept': 'application/json', 'user-key': user_key}\n",
    "response = requests.get(basic_api+'/cuisines', headers = header, params = params)\n",
    "data = response.json()\n",
    "for i in range(len(data['cuisines'])):\n",
    "    if(data['cuisines'][i]['cuisine']['cuisine_name'] == 'Mexican'):\n",
    "        print(data['cuisines'][i]['cuisine']['cuisine_id'])"
   ]
  },
  {
   "cell_type": "code",
   "execution_count": 25,
   "id": "9a86c427",
   "metadata": {},
   "outputs": [
    {
     "name": "stdout",
     "output_type": "stream",
     "text": [
      "{'entity_type': 'subzone', 'entity_id': 104, 'title': 'Connaught Place, New Delhi', 'latitude': 28.632832, 'longitude': 77.219688, 'city_id': 1, 'city_name': 'Delhi NCR', 'country_id': 1, 'country_name': 'India'} {'entity_type': 'subzone', 'entity_id': 104, 'title': 'Connaught Place, New Delhi', 'latitude': 28.632832, 'longitude': 77.219688, 'city_id': 1, 'city_name': 'Delhi NCR', 'country_id': 1, 'country_name': 'India'}\n"
     ]
    }
   ],
   "source": [
    "#fetch the entityid and entitytype of place cannaught place. print the entittyid and entitytype\n",
    "basic_api = 'https://developers.zomato.com/api/v2.1'\n",
    "params = {'query':'Connaught Place'}\n",
    "user_key = \"deacdd5cb34d052c59e8491eb2699851\"\n",
    "header = {\"User-agent\": \"curcl/7.43.0\", 'Accept': 'application/json', 'user-key': user_key}\n",
    "response = requests.get(basic_api+'/locations', headers = header, params = params)\n",
    "data = response.json()\n",
    "print(data['location_suggestions'][0], data['location_suggestions'][0])"
   ]
  },
  {
   "cell_type": "code",
   "execution_count": 29,
   "id": "8abd01ee",
   "metadata": {},
   "outputs": [
    {
     "name": "stdout",
     "output_type": "stream",
     "text": [
      "38 Barracks 4.5 18241537\n",
      "Chili's Grill & Bar 4.4 18537536\n",
      "Station Bar 4.4 18851371\n",
      "Master Of Malts 4.3 18391149\n",
      "Farzi Cafe 4.3 18233593\n",
      "Lord Of The Drinks 4.3 312603\n",
      "Ministry Of Beer 4.3 18418277\n",
      "Xero Degrees 4.2 18729557\n",
      "Warehouse Cafe 4.2 301605\n",
      "Openhouse Cafe 4.2 312601\n"
     ]
    }
   ],
   "source": [
    "#fetch the top 10 best rated restaurant serving 'Mexican' cuisine present in Connaught Place.\n",
    "#print the restaurant name, user rating and restaurant id\n",
    "\n",
    "basic_api = 'https://developers.zomato.com/api/v2.1'\n",
    "params = {'entity_id': 104, 'entity_type': \"subzone\", 'cuisines': [73], 'sort': 'rating', \"count\": 10, 'order':' desc'}\n",
    "user_key = \"deacdd5cb34d052c59e8491eb2699851\"\n",
    "header = {\"User-agent\": \"curcl/7.43.0\", 'Accept': 'application/json', 'user-key': user_key}\n",
    "response = requests.get(basic_api+'/search', headers = header, params = params)\n",
    "text = response.json()\n",
    "for i in text['restaurants']:\n",
    "    print(i['restaurant']['name'], i['restaurant']['user_rating']['aggregate_rating'], i['restaurant']['R']['res_id'])"
   ]
  },
  {
   "cell_type": "code",
   "execution_count": 33,
   "id": "9594fd4d",
   "metadata": {},
   "outputs": [
    {
     "name": "stdout",
     "output_type": "stream",
     "text": [
      "6\n"
     ]
    }
   ],
   "source": [
    "# fetch the category id of category type 'Cafes' using zomato API\n",
    "#print the category_id\n",
    "\n",
    "basic_api = 'https://developers.zomato.com/api/v2.1'\n",
    "user_key = \"deacdd5cb34d052c59e8491eb2699851\"\n",
    "header = {\"User-agent\": \"curcl/7.43.0\", 'Accept': 'application/json', 'user-key': user_key}\n",
    "response = requests.get(basic_api+'/categories', headers = header)\n",
    "data = response.json()\n",
    "for i in range(len(data['categories'])):\n",
    "    if data['categories'][i]['categories']['name'] == 'Cafes':\n",
    "        print(data['categories'][i]['categories']['id'])"
   ]
  },
  {
   "cell_type": "code",
   "execution_count": 36,
   "id": "eae99b42",
   "metadata": {},
   "outputs": [
    {
     "name": "stdout",
     "output_type": "stream",
     "text": [
      "Xero Degrees 4.2 18729557\n",
      "Chaayos Chai+Snacks=Relax 4.1 18237315\n",
      "The Chai Story 3.9 18445782\n",
      "Cafe Coffee Day - The Square 3.7 303034\n",
      "Bakeburry 3.3 20072414\n",
      "Krishna Cafe 3.2 301191\n"
     ]
    }
   ],
   "source": [
    "#fetcy the best-rated restaurant for 'Mexican' cuisine with category type 'Cafes' present in Connaught place using zomato\n",
    "\n",
    "# print the restaurant name, user rating, restaurant_id\n",
    "\n",
    "basic_api = 'https://developers.zomato.com/api/v2.1'\n",
    "params = {'entity_id': 104, 'entity_type': \"subzone\", 'cuisines': [73], 'sort': 'rating', \"count\": 10, 'order':' desc', 'category' : \"6\"}\n",
    "user_key = \"deacdd5cb34d052c59e8491eb2699851\"\n",
    "header = {\"User-agent\": \"curcl/7.43.0\", 'Accept': 'application/json', 'user-key': user_key}\n",
    "response = requests.get(basic_api+'/search', headers = header, params = params)\n",
    "text = response.json()\n",
    "for i in text['restaurants']:\n",
    "    print(i['restaurant']['name'], i['restaurant']['user_rating']['aggregate_rating'], i['restaurant']['R']['res_id'])"
   ]
  },
  {
   "cell_type": "code",
   "execution_count": 49,
   "id": "579d753e",
   "metadata": {},
   "outputs": [
    {
     "ename": "KeyError",
     "evalue": "0",
     "output_type": "error",
     "traceback": [
      "\u001b[0;31m---------------------------------------------------------------------------\u001b[0m",
      "\u001b[0;31mKeyError\u001b[0m                                  Traceback (most recent call last)",
      "\u001b[0;32m/var/folders/cy/5q5tbny93010tk6yzsxpr7l00000gn/T/ipykernel_1386/1787221291.py\u001b[0m in \u001b[0;36m<module>\u001b[0;34m\u001b[0m\n\u001b[1;32m     12\u001b[0m \u001b[0;32mfor\u001b[0m \u001b[0mi\u001b[0m \u001b[0;32min\u001b[0m \u001b[0mdata\u001b[0m\u001b[0;34m[\u001b[0m\u001b[0;34m'restaurant'\u001b[0m\u001b[0;34m]\u001b[0m\u001b[0;34m[\u001b[0m\u001b[0;34m'all_reviews'\u001b[0m\u001b[0;34m]\u001b[0m\u001b[0;34m[\u001b[0m\u001b[0;34m'reviews'\u001b[0m\u001b[0;34m]\u001b[0m\u001b[0;34m:\u001b[0m\u001b[0;34m\u001b[0m\u001b[0;34m\u001b[0m\u001b[0m\n\u001b[1;32m     13\u001b[0m     \u001b[0;31m#print(i['review']['user']['name'], i['review']['rating'], i['review']['review_text'])\u001b[0m\u001b[0;34m\u001b[0m\u001b[0;34m\u001b[0m\u001b[0m\n\u001b[0;32m---> 14\u001b[0;31m     \u001b[0mprint\u001b[0m\u001b[0;34m(\u001b[0m\u001b[0mi\u001b[0m\u001b[0;34m[\u001b[0m\u001b[0;36m0\u001b[0m\u001b[0;34m]\u001b[0m\u001b[0;34m[\u001b[0m\u001b[0;36m0\u001b[0m\u001b[0;34m]\u001b[0m\u001b[0;34m[\u001b[0m\u001b[0;36m0\u001b[0m\u001b[0;34m]\u001b[0m\u001b[0;34m,\u001b[0m \u001b[0mi\u001b[0m\u001b[0;34m[\u001b[0m\u001b[0;36m0\u001b[0m\u001b[0;34m]\u001b[0m\u001b[0;34m[\u001b[0m\u001b[0;36m0\u001b[0m\u001b[0;34m]\u001b[0m\u001b[0;34m,\u001b[0m \u001b[0mi\u001b[0m\u001b[0;34m[\u001b[0m\u001b[0;36m0\u001b[0m\u001b[0;34m]\u001b[0m\u001b[0;34m[\u001b[0m\u001b[0;36m0\u001b[0m\u001b[0;34m]\u001b[0m\u001b[0;34m)\u001b[0m\u001b[0;34m\u001b[0m\u001b[0;34m\u001b[0m\u001b[0m\n\u001b[0m",
      "\u001b[0;31mKeyError\u001b[0m: 0"
     ]
    }
   ],
   "source": [
    "#fetch the lastest review of the best-rated restaurant for 'Mexican' cuisine with category type 'Cafe' present in Connaught place using zomato API\n",
    "\n",
    "#print the name of the user, rating and review text\n",
    "\n",
    "basic_api = 'https://developers.zomato.com/api/v2.1'\n",
    "params = {'entity_id': 104, 'entity_type': \"subzone\", 'cuisines': [73], 'sort': 'rating', \"count\": 1, 'order':' desc', 'category': 6}\n",
    "user_key = \"deacdd5cb34d052c59e8491eb2699851\"\n",
    "header = {\"User-agent\": \"curcl/7.43.0\", 'Accept': 'application/json', 'user-key': user_key}\n",
    "response = requests.get(basic_api+'/search', headers = header, params = params)\n",
    "text = response.json()\n",
    "data = text['restaurants'][0]\n",
    "for i in data['restaurant']['all_reviews']['reviews']:\n",
    "    #print(i['review']['user']['name'], i['review']['rating'], i['review']['review_text'])\n",
    "    print(i[0][0][0], i[0][0], i[0][0])\n"
   ]
  },
  {
   "cell_type": "markdown",
   "id": "015059c2",
   "metadata": {},
   "source": [
    "## Problem 2\n",
    "\n",
    "\"Pa Pa Ya\" is a modern Asian bistro & tapas bar from the house of massive restaurant and best descvribed as chic, modern and radical reinterpretation of asian cuisine \n",
    "\n",
    "You have heard from your friend that restaurant \"Pa Pa Ya\" in Delhi quite good. so now you want to extract the information related to \"Pa Pa Ya\" using Zomato API\n",
    "\n",
    "There is a list of questions related to the restaurant given in the next section"
   ]
  },
  {
   "cell_type": "code",
   "execution_count": 52,
   "id": "78ab20aa",
   "metadata": {},
   "outputs": [
    {
     "name": "stdout",
     "output_type": "stream",
     "text": [
      "4.0\n",
      "1700\n",
      "North Indian, Continental, Italian, Chinese, Shake, Biryani, Momos, Fast Food\n",
      "G-15/B, Vijay Nagar, New Delhi\n"
     ]
    }
   ],
   "source": [
    "# fetch th edetails of \"Pa Pa Ya\" restaurant using Zomato API\n",
    "\n",
    "#Print the user rating, the average cost for two, cuisines and address of \"Pa Pa Ya\" restaurant\n",
    "\n",
    "import requests\n",
    "\n",
    "import requests\n",
    "\n",
    "#fetch the cuisine_id of 'Mexican' cuisine using zomato\n",
    "basic_api = 'https://developers.zomato.com/api/v2.1'\n",
    "params = {'res_id':18241524}\n",
    "user_key = \"deacdd5cb34d052c59e8491eb2699851\"\n",
    "header = {\"User-agent\": \"curcl/7.43.0\", 'Accept': 'application/json', 'user-key': user_key}\n",
    "response = requests.get(basic_api+'/restaurant', headers = header, params = params)\n",
    "data = response.json()\n",
    "print(data['user_rating']['aggregate_rating'])\n",
    "print(data['average_cost_for_two'])\n",
    "print(data['cuisines'])\n",
    "print(data['location']['address'])"
   ]
  },
  {
   "cell_type": "code",
   "execution_count": 54,
   "id": "a829ee5b",
   "metadata": {},
   "outputs": [
    {
     "name": "stdout",
     "output_type": "stream",
     "text": [
      "193\n"
     ]
    }
   ],
   "source": [
    "#fetch the cuisine_id of cuisine 'BBQ' using Zomato API\n",
    "#print the cuisine_id\n",
    "\n",
    "import requests\n",
    "\n",
    "basic_api = 'https://developers.zomato.com/api/v2.1'\n",
    "params = {'city_id':1}\n",
    "user_key = \"deacdd5cb34d052c59e8491eb2699851\"\n",
    "header = {\"User-agent\": \"curcl/7.43.0\", 'Accept': 'application/json', 'user-key': user_key}\n",
    "response = requests.get(basic_api+'/cuisines', headers = header, params = params)\n",
    "data = response.json()\n",
    "for i in range(len(data['cuisines'])):\n",
    "    if(data['cuisines'][i]['cuisine']['cuisine_name'] == 'BBQ'):\n",
    "        print(data['cuisines'][i]['cuisine']['cuisine_id'])"
   ]
  },
  {
   "cell_type": "code",
   "execution_count": 4,
   "id": "4889cdfa",
   "metadata": {},
   "outputs": [
    {
     "name": "stdout",
     "output_type": "stream",
     "text": [
      "Krishna Cafe 3.2 301191 Paharganj\n",
      "The Exotic Cafe & Restaurant 3.4 18408059 Paharganj\n",
      "The Drunkyard Cafe 3.8 18261165 Paharganj\n",
      "The Chai Story 3.9 18445782 Connaught Place\n",
      "The Darzi Bar & Kitchen 3.8 18423151 Connaught Place\n",
      "Rooh Burger Cafe 4.0 18600858 Connaught Place\n",
      "Kinbuck 2 4.0 309586 Connaught Place\n",
      "The Immigrant Cafe 4.0 18623154 Connaught Place\n",
      "Lord Of The Drinks 4.3 312603 Connaught Place\n",
      "Route 04 3.8 4815 Connaught Place\n"
     ]
    }
   ],
   "source": [
    "#fetch the list of the top 10 restaurants serving cuisine 'BBQ' which are nearest to tCoding ninjas \n",
    "\n",
    "#print the restaurant name, user rating, restaurant id and locality in which restaurant is present \n",
    "\n",
    "import requests\n",
    "\n",
    "#fetch the cuisine_id of 'Mexican' cuisine using zomato\n",
    "basic_api = 'https://developers.zomato.com/api/v2.1'\n",
    "params = {'entity_id': 104, 'entity_type': \"subzone\", 'cuisines': [73], 'sort': 'real_distance', \"count\": 10, 'order':' inc', 'lat': 28.697569, 'lon': 77.140611}\n",
    "user_key = \"deacdd5cb34d052c59e8491eb2699851\"\n",
    "header = {\"User-agent\": \"curcl/7.43.0\", 'Accept': 'application/json', 'user-key': user_key}\n",
    "response = requests.get(basic_api+'/search', headers = header, params = params)\n",
    "data = response.json()\n",
    "for i in data['restaurants']:\n",
    "    print(i['restaurant']['name'], i['restaurant']['user_rating']['aggregate_rating'], i['restaurant']['R']['res_id'], i['restaurant']['location']['locality'])"
   ]
  },
  {
   "cell_type": "code",
   "execution_count": 9,
   "id": "c40a8dc9",
   "metadata": {},
   "outputs": [
    {
     "ename": "TypeError",
     "evalue": "list indices must be integers or slices, not str",
     "output_type": "error",
     "traceback": [
      "\u001b[0;31m---------------------------------------------------------------------------\u001b[0m",
      "\u001b[0;31mTypeError\u001b[0m                                 Traceback (most recent call last)",
      "\u001b[0;32m/var/folders/cy/5q5tbny93010tk6yzsxpr7l00000gn/T/ipykernel_843/1313170694.py\u001b[0m in \u001b[0;36m<module>\u001b[0;34m\u001b[0m\n\u001b[1;32m     12\u001b[0m \u001b[0mdata\u001b[0m \u001b[0;34m=\u001b[0m \u001b[0mtext\u001b[0m\u001b[0;34m[\u001b[0m\u001b[0;34m'restaurants'\u001b[0m\u001b[0;34m]\u001b[0m\u001b[0;34m[\u001b[0m\u001b[0;36m0\u001b[0m\u001b[0;34m]\u001b[0m\u001b[0;34m\u001b[0m\u001b[0;34m\u001b[0m\u001b[0m\n\u001b[1;32m     13\u001b[0m \u001b[0;32mfor\u001b[0m \u001b[0mi\u001b[0m \u001b[0;32min\u001b[0m \u001b[0mdata\u001b[0m\u001b[0;34m[\u001b[0m\u001b[0;34m'restaurant'\u001b[0m\u001b[0;34m]\u001b[0m\u001b[0;34m[\u001b[0m\u001b[0;34m'all_reviews'\u001b[0m\u001b[0;34m]\u001b[0m\u001b[0;34m[\u001b[0m\u001b[0;34m'reviews'\u001b[0m\u001b[0;34m]\u001b[0m\u001b[0;34m:\u001b[0m\u001b[0;34m\u001b[0m\u001b[0;34m\u001b[0m\u001b[0m\n\u001b[0;32m---> 14\u001b[0;31m     \u001b[0mprint\u001b[0m\u001b[0;34m(\u001b[0m\u001b[0mi\u001b[0m\u001b[0;34m[\u001b[0m\u001b[0;34m'review'\u001b[0m\u001b[0;34m]\u001b[0m\u001b[0;34m[\u001b[0m\u001b[0;34m'user'\u001b[0m\u001b[0;34m]\u001b[0m\u001b[0;34m[\u001b[0m\u001b[0;34m'name'\u001b[0m\u001b[0;34m]\u001b[0m\u001b[0;34m,\u001b[0m \u001b[0mi\u001b[0m\u001b[0;34m[\u001b[0m\u001b[0;34m'review'\u001b[0m\u001b[0;34m]\u001b[0m\u001b[0;34m[\u001b[0m\u001b[0;34m'rating'\u001b[0m\u001b[0;34m]\u001b[0m\u001b[0;34m,\u001b[0m \u001b[0mi\u001b[0m\u001b[0;34m[\u001b[0m\u001b[0;34m'review'\u001b[0m\u001b[0;34m]\u001b[0m\u001b[0;34m[\u001b[0m\u001b[0;34m'review_text'\u001b[0m\u001b[0;34m]\u001b[0m\u001b[0;34m)\u001b[0m\u001b[0;34m\u001b[0m\u001b[0;34m\u001b[0m\u001b[0m\n\u001b[0m\u001b[1;32m     15\u001b[0m \u001b[0;34m\u001b[0m\u001b[0m\n",
      "\u001b[0;31mTypeError\u001b[0m: list indices must be integers or slices, not str"
     ]
    }
   ],
   "source": [
    "#fetch the latest review of the restaurant serving cuisine 'BBQ' which is most nearest to Coding ninjas?\n",
    "#print the name of user, user rating and review text\n",
    "\n",
    "#note: due to limitations of basic api plan it, can only fetch 5 latest review\n",
    "\n",
    "basic_api = 'https://developers.zomato.com/api/v2.1'\n",
    "params = {'cuisines': [193], 'sort': 'real_distance', \"count\": 1, 'order':' inc', 'lat': 28.697569, 'lon': 77.140611}\n",
    "user_key = \"deacdd5cb34d052c59e8491eb2699851\"\n",
    "header = {\"User-agent\": \"curcl/7.43.0\", 'Accept': 'application/json', 'user-key': user_key}\n",
    "response = requests.get(basic_api+'/search', headers = header, params = params)\n",
    "text = response.json()\n",
    "data = text['restaurants'][0]\n",
    "for i in data['restaurant']['all_reviews']['reviews']:\n",
    "    print(i['review']['user']['name'], i['review']['rating'], i['review']['review_text'])\n",
    "                                            "
   ]
  },
  {
   "cell_type": "code",
   "execution_count": 10,
   "id": "0eab7d9e",
   "metadata": {},
   "outputs": [
    {
     "name": "stdout",
     "output_type": "stream",
     "text": [
      "The Big Chill 4.9 8244 Khan Market\n",
      "The Big Chill 4.9 1614 Khan Market\n",
      "Dum-Pukht - ITC Maurya 4.9 2744 ITC Maurya, Chanakyapuri\n",
      "Indian Accent 4.9 2004 The Lodhi, Lodhi Road\n",
      "The Big Chill 4.8 3192 DLF Avenue, Saket\n",
      "The Big Chill 4.8 3190 Kailash Colony\n",
      "Honk - Pullman New Delhi Aerocity 4.8 18224524 Pullman New Delhi Aerocity, Aerocity\n",
      "The Big Chill 4.8 301235 DLF Promenade Mall, Vasant Kunj\n",
      "Yum Yum Cha 4.8 18277179 Cyber Hub, DLF Cyber City\n",
      "The Big Chill Cakery 4.8 18268698 DLF Mall of India, Sector 18\n"
     ]
    }
   ],
   "source": [
    "#Experiment with the radius parameter that is present in 'GET/search'. fetch the list of top 10 best-restaurant present in a radius of 4km of coding ninjas\n",
    "#print the restaurant name, user rating, restaurant id and locality in which restaurant is present\n",
    "\n",
    "basic_api = 'https://developers.zomato.com/api/v2.1'\n",
    "params = {'sort': 'rating', \"count\": 10, 'order':' inc', 'lat': 28.697569, 'lon': 77.140611, 'radius': 4000}\n",
    "user_key = \"deacdd5cb34d052c59e8491eb2699851\"\n",
    "header = {\"User-agent\": \"curcl/7.43.0\", 'Accept': 'application/json', 'user-key': user_key}\n",
    "response = requests.get(basic_api+'/search', headers = header, params = params)\n",
    "data = response.json()\n",
    "for i in data['restaurants']:\n",
    "    print(i['restaurant']['name'], i['restaurant']['user_rating']['aggregate_rating'], i['restaurant']['R']['res_id'], i['restaurant']['location']['locality'])\n"
   ]
  }
 ],
 "metadata": {
  "kernelspec": {
   "display_name": "Python 3 (ipykernel)",
   "language": "python",
   "name": "python3"
  },
  "language_info": {
   "codemirror_mode": {
    "name": "ipython",
    "version": 3
   },
   "file_extension": ".py",
   "mimetype": "text/x-python",
   "name": "python",
   "nbconvert_exporter": "python",
   "pygments_lexer": "ipython3",
   "version": "3.9.13"
  }
 },
 "nbformat": 4,
 "nbformat_minor": 5
}
